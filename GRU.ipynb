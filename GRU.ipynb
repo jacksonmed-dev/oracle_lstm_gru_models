{
 "nbformat": 4,
 "nbformat_minor": 0,
 "metadata": {
  "colab": {
   "name": "GRU.ipynb",
   "provenance": [],
   "collapsed_sections": [],
   "authorship_tag": "ABX9TyOmmdHuAJvmL2GifLGc/hr2"
  },
  "kernelspec": {
   "name": "python3",
   "display_name": "Python 3"
  },
  "language_info": {
   "name": "python"
  }
 },
 "cells": [
  {
   "cell_type": "code",
   "source": [
    "from google.colab import drive\n",
    "drive.mount('/content/gdrive/', force_remount=True)\n",
    "%cd gdrive/MyDrive/Colab Notebooks\n",
    "\n"
   ],
   "metadata": {
    "colab": {
     "base_uri": "https://localhost:8080/"
    },
    "id": "WHvlc074vcpT",
    "executionInfo": {
     "status": "ok",
     "timestamp": 1658171961802,
     "user_tz": 420,
     "elapsed": 27874,
     "user": {
      "displayName": "Mojca Stampar",
      "userId": "01277603176854812560"
     }
    },
    "outputId": "28792e36-32e7-4a99-f807-5f6d994e925e",
    "pycharm": {
     "name": "#%%\n"
    }
   },
   "execution_count": null,
   "outputs": [
    {
     "output_type": "stream",
     "name": "stdout",
     "text": [
      "Mounted at /content/gdrive/\n",
      "/content/gdrive/MyDrive/Colab Notebooks\n"
     ]
    }
   ]
  },
  {
   "cell_type": "code",
   "source": [
    "import pandas as pd\n",
    "from keras import models,backend,optimizers,layers\n",
    "from keras.models import Model\n",
    "from keras.layers import concatenate,Input,SimpleRNN\n",
    "from sklearn.model_selection import train_test_split\n",
    "from keras.layers import LSTM, GRU, Dense, Activation, Dropout, Bidirectional\n",
    "from keras.models import Sequential\n",
    "from keras import optimizers\n",
    "from keras.callbacks import EarlyStopping\n",
    "from sklearn.preprocessing import MinMaxScaler\n",
    "import matplotlib.pyplot as plt\n",
    "from sklearn import preprocessing\n",
    "plt.style.use('fivethirtyeight')\n",
    "from keras.optimizers import RMSprop, SGD\n",
    "from math import sqrt\n",
    "from sklearn.model_selection import GridSearchCV,KFold\n",
    "from keras.wrappers.scikit_learn import KerasRegressor\n",
    "\n",
    "\n",
    "print ('import completed')"
   ],
   "metadata": {
    "colab": {
     "base_uri": "https://localhost:8080/"
    },
    "id": "9-ayb-qByt0P",
    "executionInfo": {
     "status": "ok",
     "timestamp": 1658192446310,
     "user_tz": 420,
     "elapsed": 336,
     "user": {
      "displayName": "Mojca Stampar",
      "userId": "01277603176854812560"
     }
    },
    "outputId": "223747df-5e2c-4a12-a451-b28f3d545917",
    "pycharm": {
     "name": "#%%\n"
    }
   },
   "execution_count": 90,
   "outputs": [
    {
     "output_type": "stream",
     "name": "stdout",
     "text": [
      "import completed\n"
     ]
    }
   ]
  },
  {
   "cell_type": "code",
   "source": [
    "data= pd.read_csv('./GRU/finaldata.csv', encoding='utf-8')\n",
    "data = data.drop(['timestamp'], axis=1)\n",
    "X_All=data.iloc[:,:19]\n",
    "X_All=X_All.values\n",
    "\n",
    "StandardScaler_scaler = preprocessing.StandardScaler()\n",
    "StandardScaler_scaler = StandardScaler_scaler.fit(X_All) \n",
    "X_All = StandardScaler_scaler.transform(X_All) \n",
    "\n",
    "print(X_All)\n",
    "X_All=X_All.reshape(len(X_All),1,19)\n",
    "\n",
    "print('last version')\n",
    "print(X_All)\n",
    "\n",
    "y_all=data.iloc[:,19:].values\n",
    "print(y_all)"
   ],
   "metadata": {
    "colab": {
     "base_uri": "https://localhost:8080/"
    },
    "id": "iLY3q-oz3VX8",
    "executionInfo": {
     "status": "ok",
     "timestamp": 1658192481051,
     "user_tz": 420,
     "elapsed": 647,
     "user": {
      "displayName": "Mojca Stampar",
      "userId": "01277603176854812560"
     }
    },
    "outputId": "0e966abe-6325-4c36-807c-e8023d42150e",
    "pycharm": {
     "name": "#%%\n"
    }
   },
   "execution_count": 91,
   "outputs": [
    {
     "output_type": "stream",
     "name": "stdout",
     "text": [
      "[[ 1.1937088  -1.73205081  1.22474487 ...  1.47001954 -0.29109283\n",
      "   0.29581716]\n",
      " [ 1.1937088  -1.73205081  1.22474487 ...  0.8845099   0.87727039\n",
      "   1.46862823]\n",
      " [ 1.1937088  -1.73205081  1.22474487 ...  1.47001954  0.87727039\n",
      "  -0.87699391]\n",
      " ...\n",
      " [ 0.69976033  0.57735027  1.22474487 ... -1.45752867  0.87727039\n",
      "   0.29581716]\n",
      " [ 0.69976033  0.57735027  1.22474487 ... -1.45752867 -0.87527443\n",
      "   0.29581716]\n",
      " [ 0.69976033  0.57735027  1.22474487 ... -0.87201903  1.46145199\n",
      "   0.29581716]]\n",
      "last version\n",
      "[[[ 1.1937088  -1.73205081  1.22474487 ...  1.47001954 -0.29109283\n",
      "    0.29581716]]\n",
      "\n",
      " [[ 1.1937088  -1.73205081  1.22474487 ...  0.8845099   0.87727039\n",
      "    1.46862823]]\n",
      "\n",
      " [[ 1.1937088  -1.73205081  1.22474487 ...  1.47001954  0.87727039\n",
      "   -0.87699391]]\n",
      "\n",
      " ...\n",
      "\n",
      " [[ 0.69976033  0.57735027  1.22474487 ... -1.45752867  0.87727039\n",
      "    0.29581716]]\n",
      "\n",
      " [[ 0.69976033  0.57735027  1.22474487 ... -1.45752867 -0.87527443\n",
      "    0.29581716]]\n",
      "\n",
      " [[ 0.69976033  0.57735027  1.22474487 ... -0.87201903  1.46145199\n",
      "    0.29581716]]]\n",
      "[[109 110   1 146  93  54]\n",
      " [173  75   8 122  82  62]\n",
      " [178 164  13 165 178 104]\n",
      " ...\n",
      " [ 64  58 137 158  47  41]\n",
      " [ 86  96 163  38  80  83]\n",
      " [ 29 151  59  49 126 106]]\n"
     ]
    }
   ]
  },
  {
   "cell_type": "code",
   "source": [
    "validation_sample=20000\n",
    "\n",
    "#=============testing==============#\n",
    "X_v=X_All[validation_sample:]\n",
    "y_v=y_all[validation_sample:]\n",
    "\n",
    "#=============training===============#\n",
    "X=X_All[:validation_sample]\n",
    "y=y_all[:validation_sample]\n",
    "\n",
    "\n",
    "X_train, X_test, y_train, y_test = train_test_split(X, y, test_size=0.3)\n",
    "\n"
   ],
   "metadata": {
    "id": "b4vDD-ZGzfN2",
    "executionInfo": {
     "status": "ok",
     "timestamp": 1658192485799,
     "user_tz": 420,
     "elapsed": 256,
     "user": {
      "displayName": "Mojca Stampar",
      "userId": "01277603176854812560"
     }
    },
    "pycharm": {
     "name": "#%%\n"
    }
   },
   "execution_count": 92,
   "outputs": []
  },
  {
   "cell_type": "code",
   "source": [
    "input_data=Input(shape=(1,19))\n",
    "m=Bidirectional(GRU(256,return_sequences=True))(input_data)\n",
    "m=Dropout(0.3)(m)\n",
    "m=GRU(256)(m)\n",
    "m=Dropout(0.3)(m)\n",
    "\n",
    "m=Dense(256,activation='relu')(m)\n",
    "m=Dropout(0.3)(m)\n",
    "m=Dense(256,activation='relu')(m)\n",
    "m=Dropout(0.3)(m)\n",
    "m=Dense(256,activation='relu')(m)\n",
    "m=Dropout(0.3)(m)\n",
    "output=Dense(6,activation=None)(m)\n",
    "\n",
    "model = Model(inputs=input_data,outputs=output)\n",
    "\n",
    "callback = EarlyStopping(monitor=\"val_loss\", patience=100, verbose=1, mode=\"auto\")\n",
    "\n",
    "model.summary()\n"
   ],
   "metadata": {
    "colab": {
     "base_uri": "https://localhost:8080/"
    },
    "id": "ClXuttZo6T2k",
    "executionInfo": {
     "status": "ok",
     "timestamp": 1658187345412,
     "user_tz": 420,
     "elapsed": 1355,
     "user": {
      "displayName": "Mojca Stampar",
      "userId": "01277603176854812560"
     }
    },
    "outputId": "95801b62-5158-4de2-a8d6-5acc66a750ad",
    "pycharm": {
     "name": "#%%\n"
    }
   },
   "execution_count": null,
   "outputs": [
    {
     "output_type": "stream",
     "name": "stdout",
     "text": [
      "Model: \"model_19\"\n",
      "_________________________________________________________________\n",
      " Layer (type)                Output Shape              Param #   \n",
      "=================================================================\n",
      " input_27 (InputLayer)       [(None, 1, 19)]           0         \n",
      "                                                                 \n",
      " bidirectional_13 (Bidirecti  (None, 1, 512)           425472    \n",
      " onal)                                                           \n",
      "                                                                 \n",
      " dropout_98 (Dropout)        (None, 1, 512)            0         \n",
      "                                                                 \n",
      " gru_44 (GRU)                (None, 256)               591360    \n",
      "                                                                 \n",
      " dropout_99 (Dropout)        (None, 256)               0         \n",
      "                                                                 \n",
      " dense_78 (Dense)            (None, 256)               65792     \n",
      "                                                                 \n",
      " dropout_100 (Dropout)       (None, 256)               0         \n",
      "                                                                 \n",
      " dense_79 (Dense)            (None, 256)               65792     \n",
      "                                                                 \n",
      " dropout_101 (Dropout)       (None, 256)               0         \n",
      "                                                                 \n",
      " dense_80 (Dense)            (None, 256)               65792     \n",
      "                                                                 \n",
      " dropout_102 (Dropout)       (None, 256)               0         \n",
      "                                                                 \n",
      " dense_81 (Dense)            (None, 6)                 1542      \n",
      "                                                                 \n",
      "=================================================================\n",
      "Total params: 1,215,750\n",
      "Trainable params: 1,215,750\n",
      "Non-trainable params: 0\n",
      "_________________________________________________________________\n"
     ]
    }
   ]
  },
  {
   "cell_type": "code",
   "source": [
    "model.compile(optimizer='adam',loss=['mse'],metrics=['mae','mape'])\n",
    "result = model.fit(X_train,y_train,epochs=500 ,batch_size=128,validation_data=(X_test, y_test),callbacks=[callback])\n"
   ],
   "metadata": {
    "colab": {
     "base_uri": "https://localhost:8080/"
    },
    "id": "uGTHHWeKAxO9",
    "executionInfo": {
     "status": "ok",
     "timestamp": 1658188125348,
     "user_tz": 420,
     "elapsed": 775323,
     "user": {
      "displayName": "Mojca Stampar",
      "userId": "01277603176854812560"
     }
    },
    "outputId": "140c9950-fcf4-4047-d1ed-20e060283cec",
    "pycharm": {
     "name": "#%%\n"
    }
   },
   "execution_count": null,
   "outputs": [
    {
     "output_type": "stream",
     "name": "stdout",
     "text": [
      "Epoch 1/500\n",
      "118/118 [==============================] - 15s 59ms/step - loss: 4505.8940 - mae: 55.1264 - mape: 384135744.0000 - val_loss: 2767.7505 - val_mae: 45.5074 - val_mape: 453435680.0000\n",
      "Epoch 2/500\n",
      "118/118 [==============================] - 6s 51ms/step - loss: 2924.3777 - mae: 46.4133 - mape: 499406656.0000 - val_loss: 2780.1562 - val_mae: 45.5818 - val_mape: 448848672.0000\n",
      "Epoch 3/500\n",
      "118/118 [==============================] - 6s 48ms/step - loss: 2904.7295 - mae: 46.2879 - mape: 489681216.0000 - val_loss: 2768.6086 - val_mae: 45.5144 - val_mape: 463978944.0000\n",
      "Epoch 4/500\n",
      "118/118 [==============================] - 6s 50ms/step - loss: 2900.0229 - mae: 46.2858 - mape: 491083488.0000 - val_loss: 2769.2891 - val_mae: 45.5193 - val_mape: 475328320.0000\n",
      "Epoch 5/500\n",
      "118/118 [==============================] - 6s 50ms/step - loss: 2886.8083 - mae: 46.1812 - mape: 502874400.0000 - val_loss: 2757.8325 - val_mae: 45.4406 - val_mape: 455542272.0000\n",
      "Epoch 6/500\n",
      "118/118 [==============================] - 6s 47ms/step - loss: 2861.4158 - mae: 46.0257 - mape: 494105600.0000 - val_loss: 2774.4172 - val_mae: 45.5431 - val_mape: 446225664.0000\n",
      "Epoch 7/500\n",
      "118/118 [==============================] - 5s 47ms/step - loss: 2861.4280 - mae: 46.0553 - mape: 498416736.0000 - val_loss: 2761.0176 - val_mae: 45.4835 - val_mape: 461250656.0000\n",
      "Epoch 8/500\n",
      "118/118 [==============================] - 6s 50ms/step - loss: 2847.5640 - mae: 45.9694 - mape: 501870592.0000 - val_loss: 2761.0669 - val_mae: 45.4563 - val_mape: 481733056.0000\n",
      "Epoch 9/500\n",
      "118/118 [==============================] - 6s 49ms/step - loss: 2843.6589 - mae: 45.9114 - mape: 500945216.0000 - val_loss: 2769.7024 - val_mae: 45.5282 - val_mape: 455119168.0000\n",
      "Epoch 10/500\n",
      "118/118 [==============================] - 6s 50ms/step - loss: 2840.6995 - mae: 45.9276 - mape: 505626208.0000 - val_loss: 2750.8235 - val_mae: 45.4213 - val_mape: 474755040.0000\n",
      "Epoch 11/500\n",
      "118/118 [==============================] - 6s 52ms/step - loss: 2830.2473 - mae: 45.8618 - mape: 503778240.0000 - val_loss: 2771.1438 - val_mae: 45.5403 - val_mape: 446980800.0000\n",
      "Epoch 12/500\n",
      "118/118 [==============================] - 6s 51ms/step - loss: 2839.2734 - mae: 45.9276 - mape: 499345056.0000 - val_loss: 2757.2393 - val_mae: 45.4406 - val_mape: 478922464.0000\n",
      "Epoch 13/500\n",
      "118/118 [==============================] - 8s 67ms/step - loss: 2830.4480 - mae: 45.8690 - mape: 499142656.0000 - val_loss: 2774.6003 - val_mae: 45.5502 - val_mape: 445020832.0000\n",
      "Epoch 14/500\n",
      "118/118 [==============================] - 6s 52ms/step - loss: 2822.9771 - mae: 45.8449 - mape: 506960576.0000 - val_loss: 2753.5852 - val_mae: 45.4342 - val_mape: 456909088.0000\n",
      "Epoch 15/500\n",
      "118/118 [==============================] - 6s 50ms/step - loss: 2810.8748 - mae: 45.7402 - mape: 502460864.0000 - val_loss: 2806.3745 - val_mae: 45.7409 - val_mape: 432367104.0000\n",
      "Epoch 16/500\n",
      "118/118 [==============================] - 6s 50ms/step - loss: 2809.0212 - mae: 45.7453 - mape: 500504128.0000 - val_loss: 2750.0857 - val_mae: 45.4136 - val_mape: 463578016.0000\n",
      "Epoch 17/500\n",
      "118/118 [==============================] - 6s 53ms/step - loss: 2804.6968 - mae: 45.7308 - mape: 493401920.0000 - val_loss: 2759.2246 - val_mae: 45.4452 - val_mape: 480405344.0000\n",
      "Epoch 18/500\n",
      "118/118 [==============================] - 6s 53ms/step - loss: 2807.6897 - mae: 45.7206 - mape: 501012224.0000 - val_loss: 2784.5901 - val_mae: 45.6115 - val_mape: 438200000.0000\n",
      "Epoch 19/500\n",
      "118/118 [==============================] - 6s 47ms/step - loss: 2801.4456 - mae: 45.6976 - mape: 497214112.0000 - val_loss: 2750.4121 - val_mae: 45.4176 - val_mape: 467567232.0000\n",
      "Epoch 20/500\n",
      "118/118 [==============================] - 6s 50ms/step - loss: 2794.8816 - mae: 45.6735 - mape: 500860736.0000 - val_loss: 2749.7244 - val_mae: 45.4099 - val_mape: 463316544.0000\n",
      "Epoch 21/500\n",
      "118/118 [==============================] - 6s 53ms/step - loss: 2797.2532 - mae: 45.6647 - mape: 502710816.0000 - val_loss: 2752.6096 - val_mae: 45.4332 - val_mape: 463809120.0000\n",
      "Epoch 22/500\n",
      "118/118 [==============================] - 5s 46ms/step - loss: 2787.5835 - mae: 45.6010 - mape: 500221952.0000 - val_loss: 2749.2559 - val_mae: 45.4056 - val_mape: 469336160.0000\n",
      "Epoch 23/500\n",
      "118/118 [==============================] - 5s 44ms/step - loss: 2792.9214 - mae: 45.6339 - mape: 501171200.0000 - val_loss: 2750.4495 - val_mae: 45.4067 - val_mape: 462527552.0000\n",
      "Epoch 24/500\n",
      "118/118 [==============================] - 5s 45ms/step - loss: 2788.4546 - mae: 45.6042 - mape: 499624160.0000 - val_loss: 2750.7463 - val_mae: 45.4019 - val_mape: 470233632.0000\n",
      "Epoch 25/500\n",
      "118/118 [==============================] - 5s 45ms/step - loss: 2789.8201 - mae: 45.6164 - mape: 502026816.0000 - val_loss: 2753.3279 - val_mae: 45.4237 - val_mape: 477451008.0000\n",
      "Epoch 26/500\n",
      "118/118 [==============================] - 5s 46ms/step - loss: 2783.1895 - mae: 45.6073 - mape: 503520544.0000 - val_loss: 2759.3933 - val_mae: 45.4670 - val_mape: 456874784.0000\n",
      "Epoch 27/500\n",
      "118/118 [==============================] - 8s 64ms/step - loss: 2782.1428 - mae: 45.5494 - mape: 499386880.0000 - val_loss: 2756.4487 - val_mae: 45.4438 - val_mape: 458147232.0000\n",
      "Epoch 28/500\n",
      "118/118 [==============================] - 6s 47ms/step - loss: 2784.6514 - mae: 45.6105 - mape: 500804096.0000 - val_loss: 2752.1614 - val_mae: 45.4274 - val_mape: 464273696.0000\n",
      "Epoch 29/500\n",
      "118/118 [==============================] - 5s 46ms/step - loss: 2780.6672 - mae: 45.5524 - mape: 498737984.0000 - val_loss: 2750.5093 - val_mae: 45.4049 - val_mape: 474068512.0000\n",
      "Epoch 30/500\n",
      "118/118 [==============================] - 5s 45ms/step - loss: 2785.5566 - mae: 45.5897 - mape: 500576576.0000 - val_loss: 2750.3679 - val_mae: 45.4141 - val_mape: 470801664.0000\n",
      "Epoch 31/500\n",
      "118/118 [==============================] - 6s 47ms/step - loss: 2776.7915 - mae: 45.5190 - mape: 497933088.0000 - val_loss: 2757.1995 - val_mae: 45.4432 - val_mape: 463243040.0000\n",
      "Epoch 32/500\n",
      "118/118 [==============================] - 6s 50ms/step - loss: 2780.5688 - mae: 45.5729 - mape: 499418016.0000 - val_loss: 2755.5149 - val_mae: 45.4407 - val_mape: 467805472.0000\n",
      "Epoch 33/500\n",
      "118/118 [==============================] - 6s 53ms/step - loss: 2775.1462 - mae: 45.5051 - mape: 502226016.0000 - val_loss: 2759.8074 - val_mae: 45.4736 - val_mape: 453592960.0000\n",
      "Epoch 34/500\n",
      "118/118 [==============================] - 6s 51ms/step - loss: 2776.1462 - mae: 45.5278 - mape: 500575808.0000 - val_loss: 2758.3655 - val_mae: 45.4525 - val_mape: 462317984.0000\n",
      "Epoch 35/500\n",
      "118/118 [==============================] - 6s 50ms/step - loss: 2773.4512 - mae: 45.4741 - mape: 503960640.0000 - val_loss: 2759.2146 - val_mae: 45.4644 - val_mape: 466914944.0000\n",
      "Epoch 36/500\n",
      "118/118 [==============================] - 6s 49ms/step - loss: 2769.8186 - mae: 45.4484 - mape: 497232960.0000 - val_loss: 2758.1699 - val_mae: 45.4600 - val_mape: 464255200.0000\n",
      "Epoch 37/500\n",
      "118/118 [==============================] - 6s 47ms/step - loss: 2768.1296 - mae: 45.4755 - mape: 498613120.0000 - val_loss: 2757.1523 - val_mae: 45.4556 - val_mape: 463156224.0000\n",
      "Epoch 38/500\n",
      "118/118 [==============================] - 5s 46ms/step - loss: 2763.2959 - mae: 45.4021 - mape: 498497024.0000 - val_loss: 2756.8875 - val_mae: 45.4626 - val_mape: 474938144.0000\n",
      "Epoch 39/500\n",
      "118/118 [==============================] - 5s 46ms/step - loss: 2763.6755 - mae: 45.4206 - mape: 498577504.0000 - val_loss: 2772.6401 - val_mae: 45.5350 - val_mape: 450291776.0000\n",
      "Epoch 40/500\n",
      "118/118 [==============================] - 5s 46ms/step - loss: 2762.0281 - mae: 45.3833 - mape: 500659456.0000 - val_loss: 2764.5066 - val_mae: 45.4965 - val_mape: 459937664.0000\n",
      "Epoch 41/500\n",
      "118/118 [==============================] - 8s 66ms/step - loss: 2764.0676 - mae: 45.4147 - mape: 495978208.0000 - val_loss: 2761.9766 - val_mae: 45.4742 - val_mape: 464683104.0000\n",
      "Epoch 42/500\n",
      "118/118 [==============================] - 6s 47ms/step - loss: 2762.0229 - mae: 45.3885 - mape: 497126272.0000 - val_loss: 2766.2986 - val_mae: 45.5062 - val_mape: 474324512.0000\n",
      "Epoch 43/500\n",
      "118/118 [==============================] - 5s 45ms/step - loss: 2760.2488 - mae: 45.3760 - mape: 498205376.0000 - val_loss: 2763.1843 - val_mae: 45.4790 - val_mape: 466155200.0000\n",
      "Epoch 44/500\n",
      "118/118 [==============================] - 6s 54ms/step - loss: 2756.2727 - mae: 45.3380 - mape: 497845312.0000 - val_loss: 2767.5034 - val_mae: 45.5133 - val_mape: 455166560.0000\n",
      "Epoch 45/500\n",
      "118/118 [==============================] - 6s 52ms/step - loss: 2756.4578 - mae: 45.3131 - mape: 498069696.0000 - val_loss: 2781.0454 - val_mae: 45.5818 - val_mape: 445835392.0000\n",
      "Epoch 46/500\n",
      "118/118 [==============================] - 6s 51ms/step - loss: 2752.4055 - mae: 45.2828 - mape: 496494816.0000 - val_loss: 2765.8867 - val_mae: 45.4911 - val_mape: 462961888.0000\n",
      "Epoch 47/500\n",
      "118/118 [==============================] - 9s 73ms/step - loss: 2748.7222 - mae: 45.2721 - mape: 499012032.0000 - val_loss: 2768.0952 - val_mae: 45.5060 - val_mape: 460062720.0000\n",
      "Epoch 48/500\n",
      "118/118 [==============================] - 10s 84ms/step - loss: 2745.4731 - mae: 45.2055 - mape: 498113760.0000 - val_loss: 2768.6353 - val_mae: 45.5097 - val_mape: 467463616.0000\n",
      "Epoch 49/500\n",
      "118/118 [==============================] - 7s 62ms/step - loss: 2741.1970 - mae: 45.1587 - mape: 498088992.0000 - val_loss: 2775.9629 - val_mae: 45.5539 - val_mape: 447474464.0000\n",
      "Epoch 50/500\n",
      "118/118 [==============================] - 6s 55ms/step - loss: 2738.8804 - mae: 45.1501 - mape: 493817280.0000 - val_loss: 2776.1731 - val_mae: 45.5608 - val_mape: 453936192.0000\n",
      "Epoch 51/500\n",
      "118/118 [==============================] - 10s 81ms/step - loss: 2741.6772 - mae: 45.1739 - mape: 495357696.0000 - val_loss: 2772.4946 - val_mae: 45.5358 - val_mape: 455380576.0000\n",
      "Epoch 52/500\n",
      "118/118 [==============================] - 6s 49ms/step - loss: 2736.2290 - mae: 45.1239 - mape: 495770272.0000 - val_loss: 2778.5859 - val_mae: 45.5655 - val_mape: 454871744.0000\n",
      "Epoch 53/500\n",
      "118/118 [==============================] - 7s 62ms/step - loss: 2737.5845 - mae: 45.1101 - mape: 494119776.0000 - val_loss: 2772.1880 - val_mae: 45.5493 - val_mape: 460107712.0000\n",
      "Epoch 54/500\n",
      "118/118 [==============================] - 5s 46ms/step - loss: 2730.3413 - mae: 45.0625 - mape: 494797312.0000 - val_loss: 2778.1021 - val_mae: 45.5620 - val_mape: 455277760.0000\n",
      "Epoch 55/500\n",
      "118/118 [==============================] - 8s 70ms/step - loss: 2733.9253 - mae: 45.0737 - mape: 495775520.0000 - val_loss: 2788.5964 - val_mae: 45.6310 - val_mape: 443726336.0000\n",
      "Epoch 56/500\n",
      "118/118 [==============================] - 10s 87ms/step - loss: 2723.0352 - mae: 44.9971 - mape: 492585280.0000 - val_loss: 2786.8025 - val_mae: 45.6254 - val_mape: 454360288.0000\n",
      "Epoch 57/500\n",
      "118/118 [==============================] - 9s 75ms/step - loss: 2722.1580 - mae: 44.9743 - mape: 493569312.0000 - val_loss: 2796.4333 - val_mae: 45.6614 - val_mape: 443812928.0000\n",
      "Epoch 58/500\n",
      "118/118 [==============================] - 10s 86ms/step - loss: 2721.5022 - mae: 44.9687 - mape: 487366368.0000 - val_loss: 2790.3025 - val_mae: 45.6429 - val_mape: 461234176.0000\n",
      "Epoch 59/500\n",
      "118/118 [==============================] - 7s 60ms/step - loss: 2715.7312 - mae: 44.9135 - mape: 493737728.0000 - val_loss: 2790.6648 - val_mae: 45.6296 - val_mape: 447158784.0000\n",
      "Epoch 60/500\n",
      "118/118 [==============================] - 6s 50ms/step - loss: 2712.2329 - mae: 44.8839 - mape: 492552416.0000 - val_loss: 2823.3193 - val_mae: 45.8150 - val_mape: 433049152.0000\n",
      "Epoch 61/500\n",
      "118/118 [==============================] - 6s 50ms/step - loss: 2710.2654 - mae: 44.8482 - mape: 490175584.0000 - val_loss: 2802.1311 - val_mae: 45.6960 - val_mape: 439680480.0000\n",
      "Epoch 62/500\n",
      "118/118 [==============================] - 6s 49ms/step - loss: 2701.1702 - mae: 44.7649 - mape: 487955936.0000 - val_loss: 2798.2991 - val_mae: 45.6759 - val_mape: 449874432.0000\n",
      "Epoch 63/500\n",
      "118/118 [==============================] - 6s 50ms/step - loss: 2710.8232 - mae: 44.8411 - mape: 492092864.0000 - val_loss: 2806.8015 - val_mae: 45.7180 - val_mape: 443956064.0000\n",
      "Epoch 64/500\n",
      "118/118 [==============================] - 8s 71ms/step - loss: 2701.4917 - mae: 44.7294 - mape: 486153888.0000 - val_loss: 2796.4873 - val_mae: 45.6592 - val_mape: 461570880.0000\n",
      "Epoch 65/500\n",
      "118/118 [==============================] - 8s 67ms/step - loss: 2699.3774 - mae: 44.7421 - mape: 490403904.0000 - val_loss: 2808.2620 - val_mae: 45.7189 - val_mape: 441263072.0000\n",
      "Epoch 66/500\n",
      "118/118 [==============================] - 6s 52ms/step - loss: 2693.1365 - mae: 44.6677 - mape: 492459136.0000 - val_loss: 2805.0266 - val_mae: 45.6967 - val_mape: 445325408.0000\n",
      "Epoch 67/500\n",
      "118/118 [==============================] - 6s 51ms/step - loss: 2694.9238 - mae: 44.6512 - mape: 487357856.0000 - val_loss: 2804.0017 - val_mae: 45.7067 - val_mape: 446814080.0000\n",
      "Epoch 68/500\n",
      "118/118 [==============================] - 6s 48ms/step - loss: 2687.5920 - mae: 44.6090 - mape: 485476576.0000 - val_loss: 2811.8516 - val_mae: 45.7406 - val_mape: 443988832.0000\n",
      "Epoch 69/500\n",
      "118/118 [==============================] - 6s 48ms/step - loss: 2686.2996 - mae: 44.5887 - mape: 483210016.0000 - val_loss: 2812.7161 - val_mae: 45.7566 - val_mape: 444087296.0000\n",
      "Epoch 70/500\n",
      "118/118 [==============================] - 6s 47ms/step - loss: 2682.6477 - mae: 44.5606 - mape: 480419296.0000 - val_loss: 2818.6372 - val_mae: 45.8040 - val_mape: 441457088.0000\n",
      "Epoch 71/500\n",
      "118/118 [==============================] - 6s 47ms/step - loss: 2678.1218 - mae: 44.5162 - mape: 486869696.0000 - val_loss: 2817.0249 - val_mae: 45.7796 - val_mape: 442015104.0000\n",
      "Epoch 72/500\n",
      "118/118 [==============================] - 5s 46ms/step - loss: 2676.4358 - mae: 44.4530 - mape: 484933344.0000 - val_loss: 2824.3960 - val_mae: 45.8040 - val_mape: 435519168.0000\n",
      "Epoch 73/500\n",
      "118/118 [==============================] - 6s 49ms/step - loss: 2676.6882 - mae: 44.4945 - mape: 484337536.0000 - val_loss: 2818.9695 - val_mae: 45.7819 - val_mape: 441091616.0000\n",
      "Epoch 74/500\n",
      "118/118 [==============================] - 6s 50ms/step - loss: 2671.9548 - mae: 44.4215 - mape: 482620128.0000 - val_loss: 2805.0481 - val_mae: 45.7118 - val_mape: 448474848.0000\n",
      "Epoch 75/500\n",
      "118/118 [==============================] - 6s 51ms/step - loss: 2671.2944 - mae: 44.4303 - mape: 485295872.0000 - val_loss: 2807.9902 - val_mae: 45.7194 - val_mape: 446721952.0000\n",
      "Epoch 76/500\n",
      "118/118 [==============================] - 6s 53ms/step - loss: 2663.6592 - mae: 44.3372 - mape: 482409504.0000 - val_loss: 2823.0618 - val_mae: 45.7957 - val_mape: 456757664.0000\n",
      "Epoch 77/500\n",
      "118/118 [==============================] - 8s 67ms/step - loss: 2663.9861 - mae: 44.3323 - mape: 484569824.0000 - val_loss: 2841.6277 - val_mae: 45.9031 - val_mape: 429518400.0000\n",
      "Epoch 78/500\n",
      "118/118 [==============================] - 6s 54ms/step - loss: 2657.2222 - mae: 44.2564 - mape: 482419488.0000 - val_loss: 2827.1233 - val_mae: 45.8148 - val_mape: 439052128.0000\n",
      "Epoch 79/500\n",
      "118/118 [==============================] - 6s 53ms/step - loss: 2654.4500 - mae: 44.2654 - mape: 478914272.0000 - val_loss: 2830.7019 - val_mae: 45.8358 - val_mape: 437556224.0000\n",
      "Epoch 80/500\n",
      "118/118 [==============================] - 6s 53ms/step - loss: 2649.2600 - mae: 44.1893 - mape: 482958496.0000 - val_loss: 2847.5200 - val_mae: 45.9378 - val_mape: 430090304.0000\n",
      "Epoch 81/500\n",
      "118/118 [==============================] - 6s 49ms/step - loss: 2654.3413 - mae: 44.2715 - mape: 486593952.0000 - val_loss: 2840.0981 - val_mae: 45.8900 - val_mape: 435585824.0000\n",
      "Epoch 82/500\n",
      "118/118 [==============================] - 6s 48ms/step - loss: 2647.8271 - mae: 44.1842 - mape: 484988640.0000 - val_loss: 2841.4985 - val_mae: 45.9072 - val_mape: 436532608.0000\n",
      "Epoch 83/500\n",
      "118/118 [==============================] - 7s 56ms/step - loss: 2649.6348 - mae: 44.1740 - mape: 479842496.0000 - val_loss: 2845.5891 - val_mae: 45.9129 - val_mape: 432370368.0000\n",
      "Epoch 84/500\n",
      "118/118 [==============================] - 5s 46ms/step - loss: 2640.9790 - mae: 44.1133 - mape: 478358464.0000 - val_loss: 2850.1287 - val_mae: 45.9329 - val_mape: 430264256.0000\n",
      "Epoch 85/500\n",
      "118/118 [==============================] - 6s 54ms/step - loss: 2641.8081 - mae: 44.1040 - mape: 478636352.0000 - val_loss: 2884.9233 - val_mae: 46.1322 - val_mape: 420760576.0000\n",
      "Epoch 86/500\n",
      "118/118 [==============================] - 6s 48ms/step - loss: 2643.4387 - mae: 44.1170 - mape: 479807200.0000 - val_loss: 2819.7620 - val_mae: 45.7765 - val_mape: 445207328.0000\n",
      "Epoch 87/500\n",
      "118/118 [==============================] - 6s 48ms/step - loss: 2638.2483 - mae: 44.0625 - mape: 478729760.0000 - val_loss: 2826.6296 - val_mae: 45.8255 - val_mape: 450262528.0000\n",
      "Epoch 88/500\n",
      "118/118 [==============================] - 6s 54ms/step - loss: 2641.0012 - mae: 44.0817 - mape: 482200960.0000 - val_loss: 2845.9548 - val_mae: 45.9147 - val_mape: 434399744.0000\n",
      "Epoch 89/500\n",
      "118/118 [==============================] - 11s 90ms/step - loss: 2633.8550 - mae: 44.0272 - mape: 477671200.0000 - val_loss: 2839.5784 - val_mae: 45.8877 - val_mape: 439149248.0000\n",
      "Epoch 90/500\n",
      "118/118 [==============================] - 9s 77ms/step - loss: 2626.3340 - mae: 43.9761 - mape: 476311488.0000 - val_loss: 2857.8867 - val_mae: 45.9794 - val_mape: 430904768.0000\n",
      "Epoch 91/500\n",
      "118/118 [==============================] - 6s 53ms/step - loss: 2626.9297 - mae: 43.9232 - mape: 479829376.0000 - val_loss: 2842.4114 - val_mae: 45.8900 - val_mape: 440272832.0000\n",
      "Epoch 92/500\n",
      "118/118 [==============================] - 6s 53ms/step - loss: 2621.0010 - mae: 43.8773 - mape: 482106240.0000 - val_loss: 2852.5703 - val_mae: 45.9502 - val_mape: 437694336.0000\n",
      "Epoch 93/500\n",
      "118/118 [==============================] - 5s 46ms/step - loss: 2624.3643 - mae: 43.9038 - mape: 477559040.0000 - val_loss: 2841.1462 - val_mae: 45.8888 - val_mape: 442598112.0000\n",
      "Epoch 94/500\n",
      "118/118 [==============================] - 6s 51ms/step - loss: 2622.7075 - mae: 43.8930 - mape: 476675872.0000 - val_loss: 2846.6321 - val_mae: 45.9199 - val_mape: 439501664.0000\n",
      "Epoch 95/500\n",
      "118/118 [==============================] - 6s 50ms/step - loss: 2621.1162 - mae: 43.8799 - mape: 474650560.0000 - val_loss: 2884.4258 - val_mae: 46.1109 - val_mape: 419883264.0000\n",
      "Epoch 96/500\n",
      "118/118 [==============================] - 6s 47ms/step - loss: 2615.5518 - mae: 43.8346 - mape: 471179680.0000 - val_loss: 2869.3965 - val_mae: 46.0534 - val_mape: 427225792.0000\n",
      "Epoch 97/500\n",
      "118/118 [==============================] - 6s 50ms/step - loss: 2612.1099 - mae: 43.7786 - mape: 482439392.0000 - val_loss: 2889.4185 - val_mae: 46.1566 - val_mape: 424304576.0000\n",
      "Epoch 98/500\n",
      "118/118 [==============================] - 5s 46ms/step - loss: 2610.9326 - mae: 43.7610 - mape: 474668864.0000 - val_loss: 2852.4844 - val_mae: 45.9507 - val_mape: 443744480.0000\n",
      "Epoch 99/500\n",
      "118/118 [==============================] - 6s 48ms/step - loss: 2611.1218 - mae: 43.7871 - mape: 470759584.0000 - val_loss: 2860.4697 - val_mae: 45.9998 - val_mape: 442111136.0000\n",
      "Epoch 100/500\n",
      "118/118 [==============================] - 6s 49ms/step - loss: 2610.3679 - mae: 43.7659 - mape: 472663552.0000 - val_loss: 2885.5149 - val_mae: 46.1179 - val_mape: 426086240.0000\n",
      "Epoch 101/500\n",
      "118/118 [==============================] - 5s 45ms/step - loss: 2606.4885 - mae: 43.7011 - mape: 476279072.0000 - val_loss: 2849.7708 - val_mae: 45.9298 - val_mape: 440093280.0000\n",
      "Epoch 102/500\n",
      "118/118 [==============================] - 5s 45ms/step - loss: 2607.7256 - mae: 43.7253 - mape: 473905632.0000 - val_loss: 2876.1152 - val_mae: 46.0749 - val_mape: 427035552.0000\n",
      "Epoch 103/500\n",
      "118/118 [==============================] - 7s 61ms/step - loss: 2599.2114 - mae: 43.6617 - mape: 474595648.0000 - val_loss: 2882.1340 - val_mae: 46.1203 - val_mape: 430901280.0000\n",
      "Epoch 104/500\n",
      "118/118 [==============================] - 6s 48ms/step - loss: 2599.7263 - mae: 43.6647 - mape: 472165728.0000 - val_loss: 2878.5613 - val_mae: 46.0791 - val_mape: 430097952.0000\n",
      "Epoch 105/500\n",
      "118/118 [==============================] - 5s 46ms/step - loss: 2599.2090 - mae: 43.6430 - mape: 475523392.0000 - val_loss: 2868.3032 - val_mae: 46.0299 - val_mape: 437947712.0000\n",
      "Epoch 106/500\n",
      "118/118 [==============================] - 6s 48ms/step - loss: 2595.5161 - mae: 43.5666 - mape: 475636896.0000 - val_loss: 2857.6692 - val_mae: 45.9648 - val_mape: 439655520.0000\n",
      "Epoch 107/500\n",
      "118/118 [==============================] - 5s 46ms/step - loss: 2594.2073 - mae: 43.5781 - mape: 472573824.0000 - val_loss: 2901.9592 - val_mae: 46.2041 - val_mape: 421170624.0000\n",
      "Epoch 108/500\n",
      "118/118 [==============================] - 6s 47ms/step - loss: 2593.8181 - mae: 43.5668 - mape: 472570240.0000 - val_loss: 2871.4817 - val_mae: 46.0469 - val_mape: 436884128.0000\n",
      "Epoch 109/500\n",
      "118/118 [==============================] - 5s 46ms/step - loss: 2592.5227 - mae: 43.5982 - mape: 467570816.0000 - val_loss: 2889.8618 - val_mae: 46.1491 - val_mape: 431339648.0000\n",
      "Epoch 110/500\n",
      "118/118 [==============================] - 5s 46ms/step - loss: 2592.2517 - mae: 43.5569 - mape: 470120320.0000 - val_loss: 2877.6401 - val_mae: 46.0796 - val_mape: 429092384.0000\n",
      "Epoch 111/500\n",
      "118/118 [==============================] - 10s 85ms/step - loss: 2590.8499 - mae: 43.5614 - mape: 470841696.0000 - val_loss: 2889.6394 - val_mae: 46.1468 - val_mape: 428907168.0000\n",
      "Epoch 112/500\n",
      "118/118 [==============================] - 7s 55ms/step - loss: 2585.9844 - mae: 43.4656 - mape: 474157248.0000 - val_loss: 2882.6125 - val_mae: 46.0964 - val_mape: 433310304.0000\n",
      "Epoch 113/500\n",
      "118/118 [==============================] - 5s 44ms/step - loss: 2588.0020 - mae: 43.5248 - mape: 467102240.0000 - val_loss: 2926.5266 - val_mae: 46.3443 - val_mape: 416168192.0000\n",
      "Epoch 114/500\n",
      "118/118 [==============================] - 5s 46ms/step - loss: 2585.2671 - mae: 43.4779 - mape: 467186976.0000 - val_loss: 2867.1096 - val_mae: 46.0026 - val_mape: 434611008.0000\n",
      "Epoch 115/500\n",
      "118/118 [==============================] - 7s 58ms/step - loss: 2585.8467 - mae: 43.4991 - mape: 473485696.0000 - val_loss: 2904.5403 - val_mae: 46.2119 - val_mape: 423991744.0000\n",
      "Epoch 116/500\n",
      "118/118 [==============================] - 11s 92ms/step - loss: 2581.7524 - mae: 43.4374 - mape: 466457984.0000 - val_loss: 2885.1719 - val_mae: 46.1093 - val_mape: 433763520.0000\n",
      "Epoch 117/500\n",
      "118/118 [==============================] - 6s 48ms/step - loss: 2579.4565 - mae: 43.4390 - mape: 470025056.0000 - val_loss: 2870.7380 - val_mae: 46.0447 - val_mape: 440496864.0000\n",
      "Epoch 118/500\n",
      "118/118 [==============================] - 5s 44ms/step - loss: 2576.1794 - mae: 43.3944 - mape: 469810592.0000 - val_loss: 2908.0779 - val_mae: 46.2259 - val_mape: 421715296.0000\n",
      "Epoch 119/500\n",
      "118/118 [==============================] - 5s 45ms/step - loss: 2574.2405 - mae: 43.3705 - mape: 466689760.0000 - val_loss: 2908.3616 - val_mae: 46.2488 - val_mape: 422594912.0000\n",
      "Epoch 120/500\n",
      "118/118 [==============================] - 5s 43ms/step - loss: 2572.9719 - mae: 43.3511 - mape: 468443040.0000 - val_loss: 2906.9685 - val_mae: 46.2487 - val_mape: 425671040.0000\n",
      "Epoch 121/500\n",
      "118/118 [==============================] - 5s 45ms/step - loss: 2571.8325 - mae: 43.3298 - mape: 471461088.0000 - val_loss: 2916.8921 - val_mae: 46.2868 - val_mape: 423584736.0000\n",
      "Epoch 122/500\n",
      "118/118 [==============================] - 5s 46ms/step - loss: 2575.6450 - mae: 43.3844 - mape: 468780832.0000 - val_loss: 2880.7056 - val_mae: 46.1052 - val_mape: 433860224.0000\n",
      "Epoch 122: early stopping\n"
     ]
    }
   ]
  },
  {
   "cell_type": "code",
   "source": [
    "# model.save('GRU_model.h5')\n",
    "score=model.evaluate(X_v,y_v)\n",
    "print(\"MSE:\",\"%.4f\"%score[0],\" / MAE:\",\"%.4f\"%score[1],\"/ MAPE:\",\"%.4f\"%score[2])\n",
    "\n",
    "a=model.predict(X_v)\n",
    "print(\"GRU\")\n",
    "a = pd.DataFrame(a, columns = ['outcome_head','outcome_shoulder','outcome_arm','outcome_buttocks','outcome_leg','outcome_heel'])\n",
    "\n",
    "\n",
    "# print(\"========MSE========\")\n",
    "# print(\"1hr:%.4f\\n\"%mse_f(y_v,a,0),\"2hrs:%.4f\\n\"%mse_f(y_v,a,1),\"3hrs:%.4f\\n\"%mse_f(y_v,a,2),\"4hrs:%.4f\\n\"%mse_f(y_v,a,3),\"5hrs:%.4f\\n\"%mse_f(y_v,a,4),\"6hrs:%.4f\\n\"%mse_f(y_v,a,5),\"7hrs:%.4f\\n\"%mse_f(y_v,a,6),\"8hrs:%.4f\"%mse_f(y_v,a,7))\n",
    "# print(\"========MAE========\")\n",
    "# print(\"1hr:%.4f\\n\"%mae_f(y_v,a,0),\"2hrs:%.4f\\n\"%mae_f(y_v,a,1),\"3hrs:%.4f\\n\"%mae_f(y_v,a,2),\"4hrs:%.4f\\n\"%mae_f(y_v,a,3),\"5hrs:%.4f\\n\"%mae_f(y_v,a,4),\"6hrs:%.4f\\n\"%mae_f(y_v,a,5),\"7hrs:%.4f\\n\"%mae_f(y_v,a,6),\"8hrs:%.4f\"%mae_f(y_v,a,7))\n",
    "# print(\"========MAPE========\")\n",
    "# print(\"1hr:%.4f\\n\"%mape_f(y_v,a,0),\"2hrs:%.4f\\n\"%mape_f(y_v,a,1),\"3hrs:%.4f\\n\"%mape_f(y_v,a,2),\"4hrs:%.4f\\n\"%mape_f(y_v,a,3),\"5hrs:%.4f\\n\"%mape_f(y_v,a,4),\"6hrs:%.4f\\n\"%mape_f(y_v,a,5),\"7hrs:%.4f\\n\"%mape_f(y_v,a,6),\"8hrs:%.4f\"%mape_f(y_v,a,7))\n",
    "# print(\"========RMSE========\")\n",
    "# print(\"1hr:%.4f\\n\"%rmse_f(y_v,a,0),\"2hrs:%.4f\\n\"%rmse_f(y_v,a,1),\"3hrs:%.4f\\n\"%rmse_f(y_v,a,2),\"4hrs:%.4f\\n\"%rmse_f(y_v,a,3),\"5hrs:%.4f\\n\"%rmse_f(y_v,a,4),\"6hrs:%.4f\\n\"%rmse_f(y_v,a,5),\"7hrs:%.4f\\n\"%rmse_f(y_v,a,6),\"8hrs:%.4f\"%rmse_f(y_v,a,7))"
   ],
   "metadata": {
    "colab": {
     "base_uri": "https://localhost:8080/"
    },
    "id": "76bFdk6PKFrm",
    "executionInfo": {
     "status": "ok",
     "timestamp": 1658192527345,
     "user_tz": 420,
     "elapsed": 6315,
     "user": {
      "displayName": "Mojca Stampar",
      "userId": "01277603176854812560"
     }
    },
    "outputId": "fc6a18e8-98ea-4a83-a7a0-8d4241824722",
    "pycharm": {
     "name": "#%%\n"
    }
   },
   "execution_count": 94,
   "outputs": [
    {
     "output_type": "stream",
     "name": "stdout",
     "text": [
      "125/125 [==============================] - 2s 14ms/step - loss: 2880.7852 - mae: 46.1026 - mape: 481723072.0000\n",
      "MSE: 2880.7852  / MAE: 46.1026 / MAPE: 481723072.0000\n",
      "125/125 [==============================] - 3s 25ms/step\n",
      "GRU\n"
     ]
    }
   ]
  }
 ]
}